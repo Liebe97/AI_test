{
  "nbformat": 4,
  "nbformat_minor": 0,
  "metadata": {
    "colab": {
      "name": "Untitled4.ipynb",
      "provenance": [],
      "collapsed_sections": [],
      "authorship_tag": "ABX9TyNzblVjda1qr/9Hr0i8bw1Y",
      "include_colab_link": true
    },
    "kernelspec": {
      "name": "python3",
      "display_name": "Python 3"
    }
  },
  "cells": [
    {
      "cell_type": "markdown",
      "metadata": {
        "id": "view-in-github",
        "colab_type": "text"
      },
      "source": [
        "<a href=\"https://colab.research.google.com/github/Liebe97/AI_test/blob/school/%ED%81%B4%EB%A1%9C%EB%B0%94.ipynb\" target=\"_parent\"><img src=\"https://colab.research.google.com/assets/colab-badge.svg\" alt=\"Open In Colab\"/></a>"
      ]
    },
    {
      "cell_type": "markdown",
      "metadata": {
        "id": "29hcUsyG-cDH",
        "colab_type": "text"
      },
      "source": [
        "##**인공지능 스피커 클로바**\n",
        "\n",
        "클로바가 주력하는 AI 기술은 세가지가 있습니다. 음성을 인식하여 텍스트화 해주는 음성 인식 기술, 사람처럼 자연스럽게 텍스트를 읽어주는 음성 합성 기술, 사진 속 텍스트의 정보를 읽고 판별해주는 광학 문자 판독 기술입니다. 클로바의 음성 인식 기술은 고객센터, 자동차 등에 사용되면서 소비자들에게 편의를 제공하고 있습니다."
      ]
    }
  ]
}