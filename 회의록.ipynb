{
  "nbformat": 4,
  "nbformat_minor": 0,
  "metadata": {
    "colab": {
      "name": "Untitled5.ipynb",
      "provenance": [],
      "authorship_tag": "ABX9TyNO0qOSyNdHeqaTGRlr+eLU",
      "include_colab_link": true
    },
    "kernelspec": {
      "name": "python3",
      "display_name": "Python 3"
    }
  },
  "cells": [
    {
      "cell_type": "markdown",
      "metadata": {
        "id": "view-in-github",
        "colab_type": "text"
      },
      "source": [
        "<a href=\"https://colab.research.google.com/github/Liebe97/AI_test/blob/school/%ED%9A%8C%EC%9D%98%EB%A1%9D.ipynb\" target=\"_parent\"><img src=\"https://colab.research.google.com/assets/colab-badge.svg\" alt=\"Open In Colab\"/></a>"
      ]
    },
    {
      "cell_type": "markdown",
      "metadata": {
        "id": "Fmd6bb7uC1CW",
        "colab_type": "text"
      },
      "source": [
        "##**인공지능 회의록**\n",
        "\n",
        "회사에서 회의를 하거나 세미나를 들을 때 메모를 하며 참여하면 몰입도가 떨어지게 되는데, 이런 불편한 점을 해결할 프로그램이 바로 AI 회의록입니다. 인공지능 회의록은 음성인식, 다중 발화자 인식 등의 기술이 탑재되어있습니다. 딥러닝 기술을 이용한 회의록의 편의성으로 인해 소비자들의 사용이 늘고 있습니다."
      ]
    }
  ]
}