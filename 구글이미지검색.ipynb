{
  "nbformat": 4,
  "nbformat_minor": 0,
  "metadata": {
    "colab": {
      "name": "Untitled6.ipynb",
      "provenance": [],
      "authorship_tag": "ABX9TyM4p+MX5QABP3syWbuBg0ww",
      "include_colab_link": true
    },
    "kernelspec": {
      "name": "python3",
      "display_name": "Python 3"
    }
  },
  "cells": [
    {
      "cell_type": "markdown",
      "metadata": {
        "id": "view-in-github",
        "colab_type": "text"
      },
      "source": [
        "<a href=\"https://colab.research.google.com/github/Liebe97/AI_test/blob/school/%EA%B5%AC%EA%B8%80%EC%9D%B4%EB%AF%B8%EC%A7%80%EA%B2%80%EC%83%89.ipynb\" target=\"_parent\"><img src=\"https://colab.research.google.com/assets/colab-badge.svg\" alt=\"Open In Colab\"/></a>"
      ]
    },
    {
      "cell_type": "markdown",
      "metadata": {
        "id": "RXzcBaOfGeTN",
        "colab_type": "text"
      },
      "source": [
        "##**구글 AI 이미지 검색**\n",
        "\n",
        "구글에서 지원하는 이미지 검색은 딥러닝 기술을 이용한 서비스입니다. 구글 이미지 검색은 사용자가 검색하고자 하는 이미지 뿐만 아니라, 비슷한 이미지나 연관있는 이미지를 추천해주기도 합니다. 뉴욕 대학교에서 구글의 인공지능 AI를 재학습시켜 암과 종양을 높은 확률로 식별해냈다는 기사도 있었습니다. 때문에 구글 AI 포토 기술이 발전하게 되면 여러 분야에서 큰 성과를 낼 수 있을 것입니다."
      ]
    }
  ]
}