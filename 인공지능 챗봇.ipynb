{
  "nbformat": 4,
  "nbformat_minor": 0,
  "metadata": {
    "colab": {
      "name": "Untitled3.ipynb",
      "provenance": [],
      "authorship_tag": "ABX9TyPkhn5GN7egEMPDjmSdI/i8",
      "include_colab_link": true
    },
    "kernelspec": {
      "name": "python3",
      "display_name": "Python 3"
    }
  },
  "cells": [
    {
      "cell_type": "markdown",
      "metadata": {
        "id": "view-in-github",
        "colab_type": "text"
      },
      "source": [
        "<a href=\"https://colab.research.google.com/github/Liebe97/AI_test/blob/school/%EC%9D%B8%EA%B3%B5%EC%A7%80%EB%8A%A5%20%EC%B1%97%EB%B4%87.ipynb\" target=\"_parent\"><img src=\"https://colab.research.google.com/assets/colab-badge.svg\" alt=\"Open In Colab\"/></a>"
      ]
    },
    {
      "cell_type": "markdown",
      "metadata": {
        "id": "VhlwRCiE7uEc",
        "colab_type": "text"
      },
      "source": [
        "##**인공지능 챗봇**\n",
        "\n",
        "챗봇은 매크로 형태로 정해진 답을 출력하는 기존의 방식과 달리, 소비자의 행동과 패턴을 예상하여 상품을 소개하는 등 스스로 학습하는 형태로 발전하고 있습니다. 때문에 머신러닝 기술과 딥러닝의 자연어 처리기술을 기반으로 소비자들에게 상담 서비스를 제공하고 있습니다.\n"
      ]
    }
  ]
}