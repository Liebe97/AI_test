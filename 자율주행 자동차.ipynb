{
  "nbformat": 4,
  "nbformat_minor": 0,
  "metadata": {
    "colab": {
      "name": "Untitled8.ipynb",
      "provenance": [],
      "authorship_tag": "ABX9TyNdF6bYo2Zs48hOs2VH2hb9",
      "include_colab_link": true
    },
    "kernelspec": {
      "name": "python3",
      "display_name": "Python 3"
    }
  },
  "cells": [
    {
      "cell_type": "markdown",
      "metadata": {
        "id": "view-in-github",
        "colab_type": "text"
      },
      "source": [
        "<a href=\"https://colab.research.google.com/github/Liebe97/AI_test/blob/school/%EC%9E%90%EC%9C%A8%EC%A3%BC%ED%96%89%20%EC%9E%90%EB%8F%99%EC%B0%A8.ipynb\" target=\"_parent\"><img src=\"https://colab.research.google.com/assets/colab-badge.svg\" alt=\"Open In Colab\"/></a>"
      ]
    },
    {
      "cell_type": "markdown",
      "metadata": {
        "id": "ujrozYI0OqyI",
        "colab_type": "text"
      },
      "source": [
        "##**자율주행 자동차**\n",
        "\n",
        "실리콘밸리에서는 자율주행차를 개발하는 기업들이 대거 상주하면서, 자율주행차가 시범운행을 하는 모습이 일상이 되었습니다. 우리나라에서도 전국적으로 자율주행차의 연구와 시범운행을 시도하고 있습니다. 딥러닝 기술을 사용한 자율주행차 센서의 사물의 인식률을 높이고, 사고 위험성을 줄이기 위해 많은 개발자들이 노력하고 있는 상황입니다."
      ]
    }
  ]
}