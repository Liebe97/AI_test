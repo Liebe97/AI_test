{
  "nbformat": 4,
  "nbformat_minor": 0,
  "metadata": {
    "colab": {
      "name": "Untitled7.ipynb",
      "provenance": [],
      "authorship_tag": "ABX9TyMDFhQfMbXbwcm5fgki+/u1",
      "include_colab_link": true
    },
    "kernelspec": {
      "name": "python3",
      "display_name": "Python 3"
    }
  },
  "cells": [
    {
      "cell_type": "markdown",
      "metadata": {
        "id": "view-in-github",
        "colab_type": "text"
      },
      "source": [
        "<a href=\"https://colab.research.google.com/github/Liebe97/AI_test/blob/school/AI%EB%B3%B4%EC%95%88%EC%9A%94%EC%9B%90.ipynb\" target=\"_parent\"><img src=\"https://colab.research.google.com/assets/colab-badge.svg\" alt=\"Open In Colab\"/></a>"
      ]
    },
    {
      "cell_type": "markdown",
      "metadata": {
        "id": "XidsYyOdMMsn",
        "colab_type": "text"
      },
      "source": [
        "##**AI 보안요원**\n",
        "\n",
        "LG CNS에서 최근 개발한 AI 엑스레이 영상분석 기술은 엑스레이 장비가 가방 속의 사진을 찍으면, AI가 정보 유출 가능성이 있는 저장매체나 전자기기를 분석하여 찾아내는 기술입니다. 회사의 기밀 사항이나 기술을 도난당할 가능성을 인력을 이용해 방지하고 있었지만, AI보안요원의 등장으로 기계가 인력을 대체할 수 있을 것입니다. 또한 AI를 더 학습시킨다면 공항 검색대에서 금지 물품들을 판별하는데 유용하게 쓰일 것이라고 전망됩니다."
      ]
    }
  ]
}