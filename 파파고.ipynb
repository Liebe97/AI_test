{
  "nbformat": 4,
  "nbformat_minor": 0,
  "metadata": {
    "colab": {
      "name": "Untitled2.ipynb",
      "provenance": [],
      "collapsed_sections": [],
      "authorship_tag": "ABX9TyO4zw3uhuFaxPbwHIhEOYwe",
      "include_colab_link": true
    },
    "kernelspec": {
      "name": "python3",
      "display_name": "Python 3"
    }
  },
  "cells": [
    {
      "cell_type": "markdown",
      "metadata": {
        "id": "view-in-github",
        "colab_type": "text"
      },
      "source": [
        "<a href=\"https://colab.research.google.com/github/Liebe97/AI_test/blob/school/%ED%8C%8C%ED%8C%8C%EA%B3%A0.ipynb\" target=\"_parent\"><img src=\"https://colab.research.google.com/assets/colab-badge.svg\" alt=\"Open In Colab\"/></a>"
      ]
    },
    {
      "cell_type": "markdown",
      "metadata": {
        "id": "aTud4bQl0GPd",
        "colab_type": "text"
      },
      "source": [
        "##**인공지능 번역기 파파고**\n",
        "\n",
        " 파파고는 인공 신경망 기술을 사용하여 번역 서비스를 제공합니다. 기존의 번역 프로그램들은 저장된 해석을 출력하는 방식이었다면, 파파고는 머신러닝을 이용하여 유연한 번역을 소비자들에게 제공합니다. 파파고 AI가 발전하면서 사투리나 신조어 등 또한 번역이 가능해졌습니다. 파파고 개발자들은 사용자들에게 번역문의 수준을 평가하게 하고, AI가 스스로 학습할 수 있도록 유도하여 파파고가 발전할 수 있도록 노력하고 있습니다.\n"
      ]
    }
  ]
}